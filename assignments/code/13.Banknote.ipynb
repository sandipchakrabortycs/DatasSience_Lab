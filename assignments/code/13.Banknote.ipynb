{
  "nbformat": 4,
  "nbformat_minor": 0,
  "metadata": {
    "colab": {
      "provenance": []
    },
    "kernelspec": {
      "name": "python3",
      "display_name": "Python 3"
    },
    "language_info": {
      "name": "python"
    }
  },
  "cells": [
    {
      "cell_type": "code",
      "execution_count": 1,
      "metadata": {
        "colab": {
          "base_uri": "https://localhost:8080/"
        },
        "id": "cnflbFGlNsxN",
        "outputId": "9b603c7f-a8ed-4202-d215-31bf5b8c7cb4"
      },
      "outputs": [
        {
          "output_type": "stream",
          "name": "stdout",
          "text": [
            "First few rows of the dataset:\n",
            "   variance  skewness  curtosis  entropy  class\n",
            "0   3.62160    8.6661   -2.8073 -0.44699      0\n",
            "1   4.54590    8.1674   -2.4586 -1.46210      0\n",
            "2   3.86600   -2.6383    1.9242  0.10645      0\n",
            "3   3.45660    9.5228   -4.0112 -3.59440      0\n",
            "4   0.32924   -4.4552    4.5718 -0.98880      0\n",
            "\n",
            "Missing values in the dataset:\n",
            "variance    0\n",
            "skewness    0\n",
            "curtosis    0\n",
            "entropy     0\n",
            "class       0\n",
            "dtype: int64\n",
            "\n",
            "Accuracy: 98.06%\n",
            "\n",
            "Classification Report:\n",
            "              precision    recall  f1-score   support\n",
            "\n",
            "           0       0.97      0.99      0.98       229\n",
            "           1       0.99      0.97      0.98       183\n",
            "\n",
            "    accuracy                           0.98       412\n",
            "   macro avg       0.98      0.98      0.98       412\n",
            "weighted avg       0.98      0.98      0.98       412\n",
            "\n",
            "\n",
            "Confusion Matrix:\n",
            "[[227   2]\n",
            " [  6 177]]\n"
          ]
        }
      ],
      "source": [
        "import pandas as pd\n",
        "from sklearn.model_selection import train_test_split\n",
        "from sklearn.tree import DecisionTreeClassifier\n",
        "from sklearn.metrics import accuracy_score, classification_report, confusion_matrix\n",
        "from sklearn.preprocessing import StandardScaler\n",
        "\n",
        "# Load the Banknote Authentication\n",
        "file_path = '/content/drive/MyDrive/Colab Notebooks/Dataset/BankNote_Authentication.csv'\n",
        "df = pd.read_csv(file_path)\n",
        "\n",
        "# 2. Preprocess the data\n",
        "print(\"First few rows of the dataset:\")\n",
        "print(df.head())\n",
        "\n",
        "# Check for missing values in the dataset\n",
        "print(\"\\nMissing values in the dataset:\")\n",
        "print(df.isnull().sum())\n",
        "\n",
        "# Separate the features (X) and target (y)\n",
        "X = df.iloc[:, :-1]  # Features\n",
        "y = df.iloc[:, -1]   # Target variable\n",
        "\n",
        "#  Normalize/scale the features\n",
        "scaler = StandardScaler()\n",
        "X_scaled = scaler.fit_transform(X)\n",
        "\n",
        "# 4. Split the dataset into training and testing sets (70% train, 30% test)\n",
        "X_train, X_test, y_train, y_test = train_test_split(X_scaled, y, test_size=0.3, random_state=42)\n",
        "\n",
        "# 5. Initialize the Decision Tree model\n",
        "model = DecisionTreeClassifier(random_state=42)\n",
        "\n",
        "# 6. Train the model\n",
        "model.fit(X_train, y_train)\n",
        "\n",
        "# 7. Make predictions on the test set\n",
        "y_pred = model.predict(X_test)\n",
        "\n",
        "# 8. Evaluate the model\n",
        "accuracy = accuracy_score(y_test, y_pred)\n",
        "print(f\"\\nAccuracy: {accuracy * 100:.2f}%\")\n",
        "\n",
        "# Classification report to evaluate precision, recall, and F1-score\n",
        "print(\"\\nClassification Report:\")\n",
        "print(classification_report(y_test, y_pred))\n",
        "\n",
        "# Confusion matrix to visualize how well the model performs\n",
        "print(\"\\nConfusion Matrix:\")\n",
        "print(confusion_matrix(y_test, y_pred))\n",
        "\n"
      ]
    }
  ]
}
